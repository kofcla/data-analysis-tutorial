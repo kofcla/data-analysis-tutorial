{
 "cells": [
  {
   "cell_type": "markdown",
   "metadata": {},
   "source": [
    "<div class=\"alert alert-block alert-success\"> <b>How to Jupyter</b>\n",
    "\n",
    "If you have never used Jupyter before, here a few hints to get started:\n",
    "<ul>\n",
    "    <li> You execute cells with pressing <code>shift + enter</code> </li>\n",
    "    <li> Everything you type in a code cell will be interpreted as python code when you execute it</li>\n",
    "    <li> Try to keep you cells in order, otherwise you will end up defining things after you use them </li>\n",
    "    <li> On the left side you have a sidebar showing the folder structure, you can open files from there and look at them </li>\n",
    "    <li> You can change cell type to markdown if you want to make notes </li>\n",
    "    <li> Once you are done save your notebook and close jupyter by pressing <code>ctrl + C</code> in your terminal running the jupyter instance </li>\n",
    "</ul>\n",
    "</div>"
   ]
  },
  {
   "cell_type": "markdown",
   "metadata": {},
   "source": [
    "# Tutorial for python data analysis"
   ]
  },
  {
   "cell_type": "markdown",
   "metadata": {},
   "source": [
    "Here you will find a quick interactive tutorial on data plotting with python."
   ]
  },
  {
   "cell_type": "markdown",
   "metadata": {},
   "source": [
    "<div class=\"alert alert-block alert-info\"> <b>Note</b>\n",
    "<p>\n",
    "    For data loading and analysis we use the package <code>numpy</code>. If you have followed the instructions in the article it should already be installed on your system and ready to use. The only thing left to do is import it (please stick to the convention to import it as <code>np</code>).\n",
    "    For plotting we use the package <code>matplotlib</code>. \n",
    "    Like numpy you should have it already installed but need to load it before it can be used. In this case we are only interested in the <code>pyplot</code> part of <code>matplotlib</code> so we only import that and give it the name <code>plt</code>, again, following conventions. Also you will need <code>scipy</code> and <code>tabulate</code> later (imported then), so make sure you followed the instructions and have the packages installed. \n",
    "\n",
    "</p></div>"
   ]
  },
  {
   "cell_type": "code",
   "execution_count": 1,
   "metadata": {},
   "outputs": [],
   "source": [
    "import numpy as np"
   ]
  },
  {
   "cell_type": "code",
   "execution_count": 2,
   "metadata": {},
   "outputs": [],
   "source": [
    "import matplotlib.pyplot as plt"
   ]
  },
  {
   "cell_type": "markdown",
   "metadata": {},
   "source": [
    "## Chapter 1: Histograms\n",
    "\n",
    "We have provided a dataset of the winglength of houseflies from [1]. Before loading continuing, have a look at the datafile (`data/housfly.txt`)."
   ]
  },
  {
   "cell_type": "markdown",
   "metadata": {},
   "source": [
    "Before we come to loading in data, here a few (of the hundreds of) useful numpy function that you might need at some point."
   ]
  },
  {
   "cell_type": "code",
   "execution_count": 3,
   "metadata": {},
   "outputs": [
    {
     "data": {
      "text/plain": [
       "array([  1,   2,   3,   6,  10, 100])"
      ]
     },
     "execution_count": 3,
     "metadata": {},
     "output_type": "execute_result"
    }
   ],
   "source": [
    "## creating an array from a list ##\n",
    "\n",
    "# define a list\n",
    "my_list = [1,2,3,6,10,100]\n",
    "\n",
    "# create an array from that #\n",
    "my_array = np.array(my_list)\n",
    "my_array"
   ]
  },
  {
   "cell_type": "code",
   "execution_count": 4,
   "metadata": {},
   "outputs": [
    {
     "data": {
      "text/plain": [
       "array([[0.15363111, 0.38574322, 0.57801714, 0.34832595, 0.01596962,\n",
       "        0.73404571, 0.98272314, 0.8758043 , 0.15475153, 0.91713941],\n",
       "       [0.5561508 , 0.73262255, 0.80111743, 0.23070934, 0.9933521 ,\n",
       "        0.27037356, 0.59751076, 0.19568933, 0.83362933, 0.23194188],\n",
       "       [0.7322712 , 0.55396846, 0.87285841, 0.60907759, 0.50019439,\n",
       "        0.01298174, 0.19582832, 0.02419155, 0.35392185, 0.39228032],\n",
       "       [0.71076465, 0.02958072, 0.91805619, 0.67706263, 0.46092255,\n",
       "        0.60418126, 0.33678716, 0.50163177, 0.25267192, 0.10841788],\n",
       "       [0.07069701, 0.45776793, 0.73005348, 0.98107268, 0.19117707,\n",
       "        0.4556575 , 0.32341856, 0.3710996 , 0.91117669, 0.145027  ],\n",
       "       [0.87695441, 0.89291396, 0.12593177, 0.22672908, 0.13036061,\n",
       "        0.63993871, 0.6619109 , 0.91999398, 0.8749393 , 0.06983529]])"
      ]
     },
     "execution_count": 4,
     "metadata": {},
     "output_type": "execute_result"
    }
   ],
   "source": [
    "## creating a random array ##\n",
    "\n",
    "random_array = np.random.random((6,10)) #give the shape here\n",
    "random_array #random values are between 0 and 1"
   ]
  },
  {
   "cell_type": "code",
   "execution_count": 5,
   "metadata": {},
   "outputs": [
    {
     "data": {
      "text/plain": [
       "(6, 10)"
      ]
     },
     "execution_count": 5,
     "metadata": {},
     "output_type": "execute_result"
    }
   ],
   "source": [
    "## shape of the array ##\n",
    "\n",
    "random_array.shape"
   ]
  },
  {
   "cell_type": "code",
   "execution_count": 6,
   "metadata": {},
   "outputs": [
    {
     "data": {
      "text/plain": [
       "array([0.15363111, 0.38574322, 0.57801714, 0.34832595, 0.01596962,\n",
       "       0.73404571, 0.98272314, 0.8758043 , 0.15475153, 0.91713941])"
      ]
     },
     "execution_count": 6,
     "metadata": {},
     "output_type": "execute_result"
    }
   ],
   "source": [
    "## index array ##\n",
    "\n",
    " # first row\n",
    "random_array[0, :]"
   ]
  },
  {
   "cell_type": "code",
   "execution_count": 7,
   "metadata": {},
   "outputs": [
    {
     "data": {
      "text/plain": [
       "array([0.38574322, 0.73262255, 0.55396846, 0.02958072, 0.45776793,\n",
       "       0.89291396])"
      ]
     },
     "execution_count": 7,
     "metadata": {},
     "output_type": "execute_result"
    }
   ],
   "source": [
    "# second column\n",
    "random_array[:, 1]"
   ]
  },
  {
   "cell_type": "code",
   "execution_count": 8,
   "metadata": {},
   "outputs": [
    {
     "data": {
      "text/plain": [
       "array([[0.15363111, 0.38574322, 0.57801714, 0.34832595, 0.01596962,\n",
       "        0.73404571, 0.98272314, 0.8758043 , 0.15475153, 0.91713941],\n",
       "       [0.5561508 , 0.73262255, 0.80111743, 0.23070934, 0.9933521 ,\n",
       "        0.27037356, 0.59751076, 0.19568933, 0.83362933, 0.23194188],\n",
       "       [0.7322712 , 0.55396846, 0.87285841, 0.60907759, 0.50019439,\n",
       "        0.01298174, 0.19582832, 0.02419155, 0.35392185, 0.39228032],\n",
       "       [0.71076465, 0.02958072, 0.91805619, 0.67706263, 0.46092255,\n",
       "        0.60418126, 0.33678716, 0.50163177, 0.25267192, 0.10841788],\n",
       "       [0.07069701, 0.45776793, 0.73005348, 0.98107268, 0.19117707,\n",
       "        0.4556575 , 0.32341856, 0.3710996 , 0.91117669, 0.145027  ]])"
      ]
     },
     "execution_count": 8,
     "metadata": {},
     "output_type": "execute_result"
    }
   ],
   "source": [
    "# array without last row\n",
    "random_array[:-1, :]"
   ]
  },
  {
   "cell_type": "markdown",
   "metadata": {},
   "source": [
    "### Loading the data"
   ]
  },
  {
   "cell_type": "code",
   "execution_count": 9,
   "metadata": {},
   "outputs": [],
   "source": [
    "# load the data from the file using numpy\n",
    "data = np.loadtxt('data/housefly.txt')"
   ]
  },
  {
   "cell_type": "markdown",
   "metadata": {},
   "source": [
    "If you want to check the content of your `data` you have multiple options. The most straightforward is just to `print` the variable:"
   ]
  },
  {
   "cell_type": "code",
   "execution_count": 10,
   "metadata": {},
   "outputs": [
    {
     "name": "stdout",
     "output_type": "stream",
     "text": [
      "[36. 37. 38. 38. 39. 39. 40. 40. 40. 40. 41. 41. 41. 41. 41. 41. 42. 42.\n",
      " 42. 42. 42. 42. 42. 43. 43. 43. 43. 43. 43. 43. 43. 44. 44. 44. 44. 44.\n",
      " 44. 44. 44. 44. 45. 45. 45. 45. 45. 45. 45. 45. 45. 45. 46. 46. 46. 46.\n",
      " 46. 46. 46. 46. 46. 46. 47. 47. 47. 47. 47. 47. 47. 47. 47. 48. 48. 48.\n",
      " 48. 48. 48. 48. 48. 49. 49. 49. 49. 49. 49. 49. 50. 50. 50. 50. 50. 50.\n",
      " 51. 51. 51. 51. 52. 52. 53. 53. 54. 55.]\n"
     ]
    }
   ],
   "source": [
    "print(data)"
   ]
  },
  {
   "cell_type": "markdown",
   "metadata": {},
   "source": [
    "### Histogram"
   ]
  },
  {
   "cell_type": "code",
   "execution_count": 11,
   "metadata": {},
   "outputs": [
    {
     "data": {
      "image/png": "[encoded data removed]",
      "text/plain": [
       "<Figure size 600x500 with 1 Axes>"
      ]
     },
     "metadata": {},
     "output_type": "display_data"
    }
   ],
   "source": [
    "## plot a histogram ##\n",
    "fig, axs = plt.subplots(figsize=(6,5))\n",
    "axs.hist(data)   \n",
    "                                                        #bins: number of equal-width bins (if int), or bin edge (if sequence)\n",
    "                                                        #density: data is normalized\n",
    "                                                        #many other options: https://matplotlib.org/stable/api/_as_gen/matplotlib.pyplot.hist.html\n",
    "axs.set_xlabel('winglenght housefly (mm)')\n",
    "axs.set_ylabel('number')\n",
    "plt.show()"
   ]
  },
  {
   "cell_type": "markdown",
   "metadata": {},
   "source": [
    "<div class=\"alert alert-block alert-warning\"> <b>Task</b>\n",
    "<p>\n",
    "    Now that you know the basics of histogram plotting you can try to improve the image. Have a look at the matplotlib documentation and add a title, make the fontsize of the ticks and labels bigger, change the color of the bars to something more pleasent and increase the number of bins to 12 (what effect does that have?)\n",
    "</p></div>"
   ]
  },
  {
   "cell_type": "markdown",
   "metadata": {},
   "source": [
    "## Chapter 2: Scatter plots\n",
    "Find a dataset of bacteria growth dependent on the temperature in `files/bacteria-growth.csv` from [2]. "
   ]
  },
  {
   "cell_type": "markdown",
   "metadata": {},
   "source": [
    "### Pandas\n",
    "Before trying to load in the data have a look at the file. You will see we have a lot of different columns that we might not all need, so it would be good to have a look at the data in the notebook before we decide what to plot. For this we are going to use `pandas`, a great library for data visualization and tables."
   ]
  },
  {
   "cell_type": "code",
   "execution_count": 12,
   "metadata": {},
   "outputs": [],
   "source": [
    "import pandas as pd"
   ]
  },
  {
   "cell_type": "markdown",
   "metadata": {},
   "source": [
    "We can load the data into a pandas `DataFrame` and have a look here in the notebook."
   ]
  },
  {
   "cell_type": "code",
   "execution_count": 13,
   "metadata": {},
   "outputs": [
    {
     "data": {
      "text/html": [
       "<div>\n",
       "<style scoped>\n",
       "    .dataframe tbody tr th:only-of-type {\n",
       "        vertical-align: middle;\n",
       "    }\n",
       "\n",
       "    .dataframe tbody tr th {\n",
       "        vertical-align: top;\n",
       "    }\n",
       "\n",
       "    .dataframe thead th {\n",
       "        text-align: right;\n",
       "    }\n",
       "</style>\n",
       "<table border=\"1\" class=\"dataframe\">\n",
       "  <thead>\n",
       "    <tr style=\"text-align: right;\">\n",
       "      <th></th>\n",
       "      <th>Time</th>\n",
       "      <th>Temperature</th>\n",
       "      <th>A1</th>\n",
       "      <th>A2</th>\n",
       "      <th>A3</th>\n",
       "      <th>A4</th>\n",
       "      <th>A5</th>\n",
       "      <th>A6</th>\n",
       "      <th>A7</th>\n",
       "      <th>A8</th>\n",
       "      <th>...</th>\n",
       "      <th>H3</th>\n",
       "      <th>H4</th>\n",
       "      <th>H5</th>\n",
       "      <th>H6</th>\n",
       "      <th>H7</th>\n",
       "      <th>H8</th>\n",
       "      <th>H9</th>\n",
       "      <th>H10</th>\n",
       "      <th>H11</th>\n",
       "      <th>H12</th>\n",
       "    </tr>\n",
       "  </thead>\n",
       "  <tbody>\n",
       "    <tr>\n",
       "      <th>0</th>\n",
       "      <td>0</td>\n",
       "      <td>28.2</td>\n",
       "      <td>0.0777</td>\n",
       "      <td>0.0811</td>\n",
       "      <td>0.0801</td>\n",
       "      <td>0.0800</td>\n",
       "      <td>0.0799</td>\n",
       "      <td>0.0806</td>\n",
       "      <td>0.0811</td>\n",
       "      <td>0.0800</td>\n",
       "      <td>...</td>\n",
       "      <td>0.0894</td>\n",
       "      <td>0.0889</td>\n",
       "      <td>0.0903</td>\n",
       "      <td>0.0894</td>\n",
       "      <td>0.0890</td>\n",
       "      <td>0.0896</td>\n",
       "      <td>0.0894</td>\n",
       "      <td>0.0923</td>\n",
       "      <td>0.0894</td>\n",
       "      <td>0.0908</td>\n",
       "    </tr>\n",
       "    <tr>\n",
       "      <th>1</th>\n",
       "      <td>20</td>\n",
       "      <td>28.9</td>\n",
       "      <td>0.0778</td>\n",
       "      <td>0.0811</td>\n",
       "      <td>0.0800</td>\n",
       "      <td>0.0801</td>\n",
       "      <td>0.0800</td>\n",
       "      <td>0.0817</td>\n",
       "      <td>0.0813</td>\n",
       "      <td>0.0800</td>\n",
       "      <td>...</td>\n",
       "      <td>0.0894</td>\n",
       "      <td>0.0889</td>\n",
       "      <td>0.0902</td>\n",
       "      <td>0.0904</td>\n",
       "      <td>0.0889</td>\n",
       "      <td>0.0896</td>\n",
       "      <td>0.0888</td>\n",
       "      <td>0.0922</td>\n",
       "      <td>0.0894</td>\n",
       "      <td>0.0909</td>\n",
       "    </tr>\n",
       "    <tr>\n",
       "      <th>2</th>\n",
       "      <td>40</td>\n",
       "      <td>29.3</td>\n",
       "      <td>0.0779</td>\n",
       "      <td>0.0815</td>\n",
       "      <td>0.0802</td>\n",
       "      <td>0.0802</td>\n",
       "      <td>0.0804</td>\n",
       "      <td>0.0816</td>\n",
       "      <td>0.0813</td>\n",
       "      <td>0.0801</td>\n",
       "      <td>...</td>\n",
       "      <td>0.0894</td>\n",
       "      <td>0.0888</td>\n",
       "      <td>0.0899</td>\n",
       "      <td>0.0903</td>\n",
       "      <td>0.0889</td>\n",
       "      <td>0.0895</td>\n",
       "      <td>0.0888</td>\n",
       "      <td>0.0932</td>\n",
       "      <td>0.0894</td>\n",
       "      <td>0.0909</td>\n",
       "    </tr>\n",
       "    <tr>\n",
       "      <th>3</th>\n",
       "      <td>60</td>\n",
       "      <td>29.8</td>\n",
       "      <td>0.0780</td>\n",
       "      <td>0.0814</td>\n",
       "      <td>0.0800</td>\n",
       "      <td>0.0801</td>\n",
       "      <td>0.0800</td>\n",
       "      <td>0.0816</td>\n",
       "      <td>0.0810</td>\n",
       "      <td>0.0802</td>\n",
       "      <td>...</td>\n",
       "      <td>0.0893</td>\n",
       "      <td>0.0888</td>\n",
       "      <td>0.0900</td>\n",
       "      <td>0.0903</td>\n",
       "      <td>0.0888</td>\n",
       "      <td>0.0895</td>\n",
       "      <td>0.0888</td>\n",
       "      <td>0.0931</td>\n",
       "      <td>0.0893</td>\n",
       "      <td>0.0906</td>\n",
       "    </tr>\n",
       "    <tr>\n",
       "      <th>4</th>\n",
       "      <td>80</td>\n",
       "      <td>30.2</td>\n",
       "      <td>0.0779</td>\n",
       "      <td>0.0813</td>\n",
       "      <td>0.0802</td>\n",
       "      <td>0.0801</td>\n",
       "      <td>0.0800</td>\n",
       "      <td>0.0816</td>\n",
       "      <td>0.0812</td>\n",
       "      <td>0.0801</td>\n",
       "      <td>...</td>\n",
       "      <td>0.0893</td>\n",
       "      <td>0.0888</td>\n",
       "      <td>0.0901</td>\n",
       "      <td>0.0903</td>\n",
       "      <td>0.0888</td>\n",
       "      <td>0.0895</td>\n",
       "      <td>0.0887</td>\n",
       "      <td>0.0931</td>\n",
       "      <td>0.0893</td>\n",
       "      <td>0.0906</td>\n",
       "    </tr>\n",
       "    <tr>\n",
       "      <th>...</th>\n",
       "      <td>...</td>\n",
       "      <td>...</td>\n",
       "      <td>...</td>\n",
       "      <td>...</td>\n",
       "      <td>...</td>\n",
       "      <td>...</td>\n",
       "      <td>...</td>\n",
       "      <td>...</td>\n",
       "      <td>...</td>\n",
       "      <td>...</td>\n",
       "      <td>...</td>\n",
       "      <td>...</td>\n",
       "      <td>...</td>\n",
       "      <td>...</td>\n",
       "      <td>...</td>\n",
       "      <td>...</td>\n",
       "      <td>...</td>\n",
       "      <td>...</td>\n",
       "      <td>...</td>\n",
       "      <td>...</td>\n",
       "      <td>...</td>\n",
       "    </tr>\n",
       "    <tr>\n",
       "      <th>4416</th>\n",
       "      <td>1920</td>\n",
       "      <td>37.0</td>\n",
       "      <td>0.0792</td>\n",
       "      <td>0.0975</td>\n",
       "      <td>0.0798</td>\n",
       "      <td>0.0797</td>\n",
       "      <td>0.0806</td>\n",
       "      <td>0.0811</td>\n",
       "      <td>0.0807</td>\n",
       "      <td>0.0798</td>\n",
       "      <td>...</td>\n",
       "      <td>0.0899</td>\n",
       "      <td>0.0893</td>\n",
       "      <td>0.0906</td>\n",
       "      <td>0.0899</td>\n",
       "      <td>0.0893</td>\n",
       "      <td>0.0900</td>\n",
       "      <td>0.0894</td>\n",
       "      <td>0.0924</td>\n",
       "      <td>0.0899</td>\n",
       "      <td>0.0898</td>\n",
       "    </tr>\n",
       "    <tr>\n",
       "      <th>4417</th>\n",
       "      <td>1940</td>\n",
       "      <td>37.0</td>\n",
       "      <td>0.0795</td>\n",
       "      <td>0.0963</td>\n",
       "      <td>0.0798</td>\n",
       "      <td>0.0798</td>\n",
       "      <td>0.0809</td>\n",
       "      <td>0.0811</td>\n",
       "      <td>0.0807</td>\n",
       "      <td>0.0800</td>\n",
       "      <td>...</td>\n",
       "      <td>0.0898</td>\n",
       "      <td>0.0893</td>\n",
       "      <td>0.0906</td>\n",
       "      <td>0.0898</td>\n",
       "      <td>0.0894</td>\n",
       "      <td>0.0899</td>\n",
       "      <td>0.0893</td>\n",
       "      <td>0.0924</td>\n",
       "      <td>0.0899</td>\n",
       "      <td>0.0901</td>\n",
       "    </tr>\n",
       "    <tr>\n",
       "      <th>4418</th>\n",
       "      <td>1960</td>\n",
       "      <td>37.0</td>\n",
       "      <td>0.0792</td>\n",
       "      <td>0.0962</td>\n",
       "      <td>0.0798</td>\n",
       "      <td>0.0798</td>\n",
       "      <td>0.0806</td>\n",
       "      <td>0.0810</td>\n",
       "      <td>0.0808</td>\n",
       "      <td>0.0798</td>\n",
       "      <td>...</td>\n",
       "      <td>0.0898</td>\n",
       "      <td>0.0893</td>\n",
       "      <td>0.0904</td>\n",
       "      <td>0.0898</td>\n",
       "      <td>0.0893</td>\n",
       "      <td>0.0899</td>\n",
       "      <td>0.0893</td>\n",
       "      <td>0.0924</td>\n",
       "      <td>0.0898</td>\n",
       "      <td>0.0902</td>\n",
       "    </tr>\n",
       "    <tr>\n",
       "      <th>4419</th>\n",
       "      <td>1980</td>\n",
       "      <td>37.0</td>\n",
       "      <td>0.0793</td>\n",
       "      <td>0.0956</td>\n",
       "      <td>0.0797</td>\n",
       "      <td>0.0797</td>\n",
       "      <td>0.0807</td>\n",
       "      <td>0.0810</td>\n",
       "      <td>0.0806</td>\n",
       "      <td>0.0798</td>\n",
       "      <td>...</td>\n",
       "      <td>0.0897</td>\n",
       "      <td>0.0892</td>\n",
       "      <td>0.0905</td>\n",
       "      <td>0.0897</td>\n",
       "      <td>0.0893</td>\n",
       "      <td>0.0899</td>\n",
       "      <td>0.0893</td>\n",
       "      <td>0.0923</td>\n",
       "      <td>0.0898</td>\n",
       "      <td>0.0902</td>\n",
       "    </tr>\n",
       "    <tr>\n",
       "      <th>4420</th>\n",
       "      <td>2000</td>\n",
       "      <td>37.0</td>\n",
       "      <td>0.0792</td>\n",
       "      <td>0.0961</td>\n",
       "      <td>0.0798</td>\n",
       "      <td>0.0796</td>\n",
       "      <td>0.0806</td>\n",
       "      <td>0.0810</td>\n",
       "      <td>0.0807</td>\n",
       "      <td>0.0799</td>\n",
       "      <td>...</td>\n",
       "      <td>0.0898</td>\n",
       "      <td>0.0892</td>\n",
       "      <td>0.0905</td>\n",
       "      <td>0.0897</td>\n",
       "      <td>0.0893</td>\n",
       "      <td>0.0899</td>\n",
       "      <td>0.0893</td>\n",
       "      <td>0.0923</td>\n",
       "      <td>0.0898</td>\n",
       "      <td>0.0899</td>\n",
       "    </tr>\n",
       "  </tbody>\n",
       "</table>\n",
       "<p>4421 rows × 98 columns</p>\n",
       "</div>"
      ],
      "text/plain": [
       "      Time  Temperature      A1      A2      A3      A4      A5      A6  \\\n",
       "0        0         28.2  0.0777  0.0811  0.0801  0.0800  0.0799  0.0806   \n",
       "1       20         28.9  0.0778  0.0811  0.0800  0.0801  0.0800  0.0817   \n",
       "2       40         29.3  0.0779  0.0815  0.0802  0.0802  0.0804  0.0816   \n",
       "3       60         29.8  0.0780  0.0814  0.0800  0.0801  0.0800  0.0816   \n",
       "4       80         30.2  0.0779  0.0813  0.0802  0.0801  0.0800  0.0816   \n",
       "...    ...          ...     ...     ...     ...     ...     ...     ...   \n",
       "4416  1920         37.0  0.0792  0.0975  0.0798  0.0797  0.0806  0.0811   \n",
       "4417  1940         37.0  0.0795  0.0963  0.0798  0.0798  0.0809  0.0811   \n",
       "4418  1960         37.0  0.0792  0.0962  0.0798  0.0798  0.0806  0.0810   \n",
       "4419  1980         37.0  0.0793  0.0956  0.0797  0.0797  0.0807  0.0810   \n",
       "4420  2000         37.0  0.0792  0.0961  0.0798  0.0796  0.0806  0.0810   \n",
       "\n",
       "          A7      A8  ...      H3      H4      H5      H6      H7      H8  \\\n",
       "0     0.0811  0.0800  ...  0.0894  0.0889  0.0903  0.0894  0.0890  0.0896   \n",
       "1     0.0813  0.0800  ...  0.0894  0.0889  0.0902  0.0904  0.0889  0.0896   \n",
       "2     0.0813  0.0801  ...  0.0894  0.0888  0.0899  0.0903  0.0889  0.0895   \n",
       "3     0.0810  0.0802  ...  0.0893  0.0888  0.0900  0.0903  0.0888  0.0895   \n",
       "4     0.0812  0.0801  ...  0.0893  0.0888  0.0901  0.0903  0.0888  0.0895   \n",
       "...      ...     ...  ...     ...     ...     ...     ...     ...     ...   \n",
       "4416  0.0807  0.0798  ...  0.0899  0.0893  0.0906  0.0899  0.0893  0.0900   \n",
       "4417  0.0807  0.0800  ...  0.0898  0.0893  0.0906  0.0898  0.0894  0.0899   \n",
       "4418  0.0808  0.0798  ...  0.0898  0.0893  0.0904  0.0898  0.0893  0.0899   \n",
       "4419  0.0806  0.0798  ...  0.0897  0.0892  0.0905  0.0897  0.0893  0.0899   \n",
       "4420  0.0807  0.0799  ...  0.0898  0.0892  0.0905  0.0897  0.0893  0.0899   \n",
       "\n",
       "          H9     H10     H11     H12  \n",
       "0     0.0894  0.0923  0.0894  0.0908  \n",
       "1     0.0888  0.0922  0.0894  0.0909  \n",
       "2     0.0888  0.0932  0.0894  0.0909  \n",
       "3     0.0888  0.0931  0.0893  0.0906  \n",
       "4     0.0887  0.0931  0.0893  0.0906  \n",
       "...      ...     ...     ...     ...  \n",
       "4416  0.0894  0.0924  0.0899  0.0898  \n",
       "4417  0.0893  0.0924  0.0899  0.0901  \n",
       "4418  0.0893  0.0924  0.0898  0.0902  \n",
       "4419  0.0893  0.0923  0.0898  0.0902  \n",
       "4420  0.0893  0.0923  0.0898  0.0899  \n",
       "\n",
       "[4421 rows x 98 columns]"
      ]
     },
     "execution_count": 13,
     "metadata": {},
     "output_type": "execute_result"
    }
   ],
   "source": [
    "df = pd.read_csv('data/bacteria-growth.csv')\n",
    "df"
   ]
  },
  {
   "cell_type": "markdown",
   "metadata": {},
   "source": [
    "We see, we have different columns probably representing different bacteria strains or something (feel free to look up the metadata in the reference of the data). The given numbers are given depending on the time. Also the temperature changes in the experiment. "
   ]
  },
  {
   "cell_type": "markdown",
   "metadata": {},
   "source": [
    "### Plot A1 depending on the temperature"
   ]
  },
  {
   "cell_type": "code",
   "execution_count": 14,
   "metadata": {},
   "outputs": [],
   "source": [
    "A1_data = df['A1']\n",
    "temp = df['Temperature']"
   ]
  },
  {
   "cell_type": "code",
   "execution_count": 15,
   "metadata": {},
   "outputs": [
    {
     "data": {
      "image/png": "[encoded data removed]",
      "text/plain": [
       "<Figure size 800x500 with 1 Axes>"
      ]
     },
     "metadata": {},
     "output_type": "display_data"
    }
   ],
   "source": [
    "#scatter plots\n",
    "fig, axs = plt.subplots(figsize=(8,5))\n",
    "\n",
    "axs.scatter(temp,A1_data, c='mediumvioletred', marker='^', label='A1') \n",
    "\n",
    "plt.legend(loc=0)\n",
    "plt.show()"
   ]
  },
  {
   "cell_type": "markdown",
   "metadata": {},
   "source": [
    "<div class=\"alert alert-block alert-warning\"> <b>Task</b>\n",
    "<p>\n",
    "    This is great but let's go a bit farther. Let us compare A1 to A2 - the next cell has hints on how to do that, also you can look some things up in the notebook plotting101. \n",
    "</p></div>"
   ]
  },
  {
   "cell_type": "code",
   "execution_count": 16,
   "metadata": {},
   "outputs": [],
   "source": [
    "## Task: two plots in one figure ##\n",
    "\n",
    "## create a figure and ax object here again like we did before:\n",
    "\n",
    "\n",
    "\n",
    "## again plot the A1 data depending on temperature:\n",
    "\n",
    "\n",
    "\n",
    "## write the same statement again, just replace the A1 data with data from the A2 column (needs to be loaded before):\n",
    "# you also want to change the color and/or the marker to tell them apart\n",
    "\n",
    "\n",
    "\n",
    "## show the plot:\n",
    "\n",
    "\n"
   ]
  },
  {
   "cell_type": "markdown",
   "metadata": {},
   "source": [
    "## Chapter 3: Analyzing data ##"
   ]
  },
  {
   "cell_type": "markdown",
   "metadata": {},
   "source": [
    "### Example Housefly: Fit normal distribution ###"
   ]
  },
  {
   "cell_type": "markdown",
   "metadata": {},
   "source": [
    "For analysis of data the package `scipy` is very handy, so we need to import it:"
   ]
  },
  {
   "cell_type": "code",
   "execution_count": 17,
   "metadata": {},
   "outputs": [],
   "source": [
    "import scipy\n",
    "#because normal distribution is so common there are extra functions included in scipy for dealing with them\n",
    "from scipy.stats import norm"
   ]
  },
  {
   "cell_type": "code",
   "execution_count": 18,
   "metadata": {},
   "outputs": [],
   "source": [
    "# load the housefly data again:\n",
    "\n",
    "data = np.loadtxt('data/housefly.txt')\n",
    "mi, ma = min(data), max(data) #data range"
   ]
  },
  {
   "cell_type": "code",
   "execution_count": 19,
   "metadata": {},
   "outputs": [
    {
     "name": "stdout",
     "output_type": "stream",
     "text": [
      "minimum data: 36.0, maximum data: 55.0\n"
     ]
    }
   ],
   "source": [
    "print(f\"minimum data: {mi}, maximum data: {ma}\")"
   ]
  },
  {
   "cell_type": "code",
   "execution_count": 20,
   "metadata": {},
   "outputs": [],
   "source": [
    "#fit normal distribution\n",
    "\n",
    "mu, std = norm.fit(data) #returns the mean and standard deviation of the fitted data\n",
    "p = norm.pdf(np.linspace(mi,ma,100), mu, std) #probability density function over the data range"
   ]
  },
  {
   "cell_type": "code",
   "execution_count": 21,
   "metadata": {},
   "outputs": [
    {
     "data": {
      "image/png": "[encoded data removed]",
      "text/plain": [
       "<Figure size 640x480 with 1 Axes>"
      ]
     },
     "metadata": {},
     "output_type": "display_data"
    }
   ],
   "source": [
    "#plot the data\n",
    "plt.hist(data, bins='auto',color='teal',density=True)   #bins: number of equal-width bins (if int), or bin edge (if sequence)\n",
    "                                                        #density: data is normalized\n",
    "                                                        #many other options: https://matplotlib.org/stable/api/_as_gen/matplotlib.pyplot.hist.html\n",
    "plt.plot(np.linspace(mi,ma,100), p, c='coral', lw='3',ls='--', label='normal fit')\n",
    "\n",
    "#make it pretty\n",
    "plt.xlabel('winglenght housefly (mm)')\n",
    "plt.ylabel('relative number')\n",
    "plt.title('Housefly winglength analysis')\n",
    "plt.legend()\n",
    "\n",
    "plt.show()"
   ]
  },
  {
   "cell_type": "markdown",
   "metadata": {},
   "source": [
    "### Example Brewster angle: Plot and fit other data ###\n",
    "I have also provided some experimental data from a lab course about the brewster angle that can be analyzed. "
   ]
  },
  {
   "cell_type": "code",
   "execution_count": 22,
   "metadata": {},
   "outputs": [],
   "source": [
    "#load data\n",
    "par_pol = np.loadtxt('data/par_pol.csv', delimiter = ',', usecols=(1,2)) #parallel polarized \n",
    "senk_pol = np.loadtxt('data/senk_pol.csv', delimiter = ',', usecols=(1,2)) #normal polarized"
   ]
  },
  {
   "cell_type": "code",
   "execution_count": 23,
   "metadata": {},
   "outputs": [
    {
     "data": {
      "image/png": "[encoded data removed]",
      "text/plain": [
       "<Figure size 800x500 with 1 Axes>"
      ]
     },
     "metadata": {},
     "output_type": "display_data"
    }
   ],
   "source": [
    "plt.figure(figsize=(8,5))\n",
    "\n",
    "#plot the two data sets\n",
    "plt.plot(par_pol[:,0], par_pol[:,1], 'o', markersize = '7',markeredgecolor = 'darkgoldenrod', color = 'moccasin', label = 'parallel polarized')\n",
    "plt.plot(senk_pol[:,0], senk_pol[:,1], 'o', markersize = '7', markeredgecolor = 'teal', color = 'aqua', label = 'vertically polarized')\n",
    "\n",
    "plt.legend(loc =2, fontsize = 18)\n",
    "plt.xlabel('incident angle (°)', fontsize = '18')\n",
    "plt.ylabel('current (mA)', fontsize = '18')\n",
    "plt.xticks(fontsize = 15)\n",
    "plt.yticks(fontsize = 15)\n",
    "\n",
    "plt.show()"
   ]
  },
  {
   "cell_type": "markdown",
   "metadata": {},
   "source": [
    "#### Fitting polynomial of third order\n",
    "The parallel polarized data can be fit with a polynomial of third order. To do that we import the scipy native `optimize.curve_fit`function. You can read up on this in the documentation. Then we need to provide the function 'skeleton' that should be fit to the data and come up with okay first estimates of the parameters. "
   ]
  },
  {
   "cell_type": "code",
   "execution_count": 24,
   "metadata": {},
   "outputs": [],
   "source": [
    "from scipy.optimize import curve_fit "
   ]
  },
  {
   "cell_type": "code",
   "execution_count": 25,
   "metadata": {},
   "outputs": [],
   "source": [
    "## create function skeleton: \n",
    "def f(x, a, b, c, d): \n",
    "    return a*x**3 + b*x**2 + c*x +d #create function 'template'"
   ]
  },
  {
   "cell_type": "code",
   "execution_count": 26,
   "metadata": {},
   "outputs": [],
   "source": [
    "## come up with a range of values of the angles: \n",
    "x = np.linspace(35, 70) #range of values"
   ]
  },
  {
   "cell_type": "code",
   "execution_count": 27,
   "metadata": {},
   "outputs": [],
   "source": [
    "## provide a list of starting values: \n",
    "popt =[1e-6, -1e-4,1e-3,1e-1] #start values (try to use good values otherwise fitting often does not work)"
   ]
  },
  {
   "cell_type": "code",
   "execution_count": 28,
   "metadata": {},
   "outputs": [
    {
     "data": {
      "text/plain": [
       "[<matplotlib.lines.Line2D at 0x7fcc26292120>]"
      ]
     },
     "execution_count": 28,
     "metadata": {},
     "output_type": "execute_result"
    },
    {
     "data": {
      "image/png": "[encoded data removed]",
      "text/plain": [
       "<Figure size 640x480 with 1 Axes>"
      ]
     },
     "metadata": {},
     "output_type": "display_data"
    }
   ],
   "source": [
    "## because the fit will return nonesense if you try with bad starting values plot the function with the starting values and \n",
    "    ## adjust them as needed until they are reasonable\n",
    "plt.plot(x, f(x, *popt))"
   ]
  },
  {
   "cell_type": "code",
   "execution_count": 29,
   "metadata": {},
   "outputs": [],
   "source": [
    "## let the curve_fit algorithm run:\n",
    "\n",
    "popt, pcov = curve_fit(f, par_pol[:,0], par_pol[:,1], p0=popt) #curve fit returns two arrays: popt: [a,b,c,d] (parameters)\n",
    "                                                                                                #pcov: estimated covariance"
   ]
  },
  {
   "cell_type": "code",
   "execution_count": 30,
   "metadata": {},
   "outputs": [],
   "source": [
    "#plot everything"
   ]
  },
  {
   "cell_type": "code",
   "execution_count": 31,
   "metadata": {},
   "outputs": [
    {
     "data": {
      "image/png": "[encoded data removed]",
      "text/plain": [
       "<Figure size 800x500 with 1 Axes>"
      ]
     },
     "metadata": {},
     "output_type": "display_data"
    }
   ],
   "source": [
    "fig, axs = plt.subplots(figsize=(8,5))\n",
    "\n",
    "axs.plot(par_pol[:,0], par_pol[:,1], 'o', markersize = '8', markeredgecolor = 'darkgoldenrod', color = 'moccasin', label = 'parallel polarized')\n",
    "axs.plot(x, f(x, *popt), '--', color='darkred', label = 'fitfunction')\n",
    "axs.set_xlabel('incident angle (°)', fontsize = '18')\n",
    "axs.set_ylabel(r'current (mA)', fontsize = '18')\n",
    "axs.tick_params(axis='both', which='major', labelsize=15)\n",
    "plt.legend(loc = 2, fontsize=18)\n",
    "plt.show()\n",
    "#fig = plt.savefig('fitfunction.svg') #saves the image - make sure to save your images as vector graphics "
   ]
  },
  {
   "cell_type": "markdown",
   "metadata": {},
   "source": [
    "### Calculate r**2 from this"
   ]
  },
  {
   "cell_type": "code",
   "execution_count": 32,
   "metadata": {},
   "outputs": [],
   "source": [
    "## residual sum of squares\n",
    "residuals = par_pol[:,1] - f(par_pol[:,0], *popt)\n",
    "ss_res = np.sum(residuals**2)\n",
    "\n",
    "## total sum of squares \n",
    "ss_tot = np.sum((par_pol[:,1]-np.mean(par_pol[:,1]))**2)\n",
    "\n",
    "## r squared \n",
    "r_squared = 1 - (ss_res / ss_tot)"
   ]
  },
  {
   "cell_type": "code",
   "execution_count": 33,
   "metadata": {},
   "outputs": [
    {
     "data": {
      "text/plain": [
       "0.9902102434005926"
      ]
     },
     "execution_count": 33,
     "metadata": {},
     "output_type": "execute_result"
    }
   ],
   "source": [
    "r_squared"
   ]
  },
  {
   "cell_type": "markdown",
   "metadata": {},
   "source": [
    "Now we can calculate the Brewster angle by finding the minimum of the fitted function, again with scipy:"
   ]
  },
  {
   "cell_type": "code",
   "execution_count": 34,
   "metadata": {},
   "outputs": [],
   "source": [
    "from scipy.optimize import minimize"
   ]
  },
  {
   "cell_type": "code",
   "execution_count": 35,
   "metadata": {},
   "outputs": [
    {
     "name": "stdout",
     "output_type": "stream",
     "text": [
      "  message: Optimization terminated successfully.\n",
      "  success: True\n",
      "   status: 0\n",
      "      fun: 0.0012247677700767956\n",
      "        x: [ 5.480e+01]\n",
      "      nit: 2\n",
      "      jac: [ 6.020e-06]\n",
      " hess_inv: [[ 5.300e+03]]\n",
      "     nfev: 16\n",
      "     njev: 8\n"
     ]
    }
   ],
   "source": [
    "res = minimize(fun=f, x0=55, args=tuple(popt))\n",
    "print(res)"
   ]
  },
  {
   "cell_type": "code",
   "execution_count": 36,
   "metadata": {},
   "outputs": [
    {
     "data": {
      "text/plain": [
       "array([54.79959999])"
      ]
     },
     "execution_count": 36,
     "metadata": {},
     "output_type": "execute_result"
    }
   ],
   "source": [
    "# The value of the found minimum can be accessed like that:\n",
    "res.x"
   ]
  },
  {
   "cell_type": "markdown",
   "metadata": {},
   "source": [
    "### Creating latex tables from data"
   ]
  },
  {
   "cell_type": "markdown",
   "metadata": {},
   "source": [
    "To create tables you can just copy into your LaTex file `tabulate` is a great choice:"
   ]
  },
  {
   "cell_type": "code",
   "execution_count": 37,
   "metadata": {},
   "outputs": [],
   "source": [
    "# import the package\n",
    "import tabulate"
   ]
  },
  {
   "cell_type": "code",
   "execution_count": 38,
   "metadata": {},
   "outputs": [
    {
     "name": "stdout",
     "output_type": "stream",
     "text": [
      "|   angle (°) |   current (mA) |\n",
      "|-------------|----------------|\n",
      "|          35 |          0.015 |\n",
      "|          40 |          0.011 |\n",
      "|          45 |          0.007 |\n",
      "|          50 |          0.003 |\n",
      "|          53 |          0.002 |\n",
      "|          55 |          0.002 |\n",
      "|          57 |          0.002 |\n",
      "|          59 |          0.004 |\n",
      "|          61 |          0.005 |\n",
      "|          63 |          0.007 |\n",
      "|          65 |          0.014 |\n",
      "|          67 |          0.021 |\n",
      "|          69 |          0.029 |\n"
     ]
    }
   ],
   "source": [
    "headers = ['angle (°)', 'current (mA)']\n",
    "\n",
    "# create a table from the parallel polarized data in e.g. the github format\n",
    "print(tabulate.tabulate(par_pol, headers, tablefmt='github'))"
   ]
  },
  {
   "cell_type": "code",
   "execution_count": 39,
   "metadata": {},
   "outputs": [
    {
     "name": "stdout",
     "output_type": "stream",
     "text": [
      "\\begin{tabular}{rr}\n",
      "\\hline\n",
      "   angle (°) &   current (mA) \\\\\n",
      "\\hline\n",
      "          35 &          0.015 \\\\\n",
      "          40 &          0.011 \\\\\n",
      "          45 &          0.007 \\\\\n",
      "          50 &          0.003 \\\\\n",
      "          53 &          0.002 \\\\\n",
      "          55 &          0.002 \\\\\n",
      "          57 &          0.002 \\\\\n",
      "          59 &          0.004 \\\\\n",
      "          61 &          0.005 \\\\\n",
      "          63 &          0.007 \\\\\n",
      "          65 &          0.014 \\\\\n",
      "          67 &          0.021 \\\\\n",
      "          69 &          0.029 \\\\\n",
      "\\hline\n",
      "\\end{tabular}\n"
     ]
    }
   ],
   "source": [
    "# to create a LaTex table change the tablefmt to 'latex'\n",
    "print(tabulate.tabulate(par_pol, headers, tablefmt='latex'))"
   ]
  },
  {
   "cell_type": "markdown",
   "metadata": {},
   "source": [
    "## Chapter 4: Image processing"
   ]
  },
  {
   "cell_type": "markdown",
   "metadata": {},
   "source": [
    "This would be beyond the scope of this example notebook, however you can have a look at the `image-analysis-tutorial.jpynb` if you are interested or need it for something. "
   ]
  },
  {
   "cell_type": "markdown",
   "metadata": {},
   "source": [
    "# References"
   ]
  },
  {
   "cell_type": "markdown",
   "metadata": {},
   "source": [
    "[1] Original data from: Sokal, R.R. and P.E. Hunter. 1955. A morphometric analysis of DDT-resistant and non-resistant housefly strains Ann. Entomol. Soc. Amer. 48: 499-507. Accessed via https://seattlecentral.edu/qelp/sets/057/057.html\n",
    "\n",
    "\n",
    "\n",
    "[2] Original data from: <a href=\"https://doi.org/10.5281/zenodo.1171129\"><img src=\"https://zenodo.org/badge/DOI/10.5281/zenodo.1171129.svg\" alt=\"DOI\"></a>\n"
   ]
  }
 ],
 "metadata": {
  "kernelspec": {
   "display_name": "Python 3 (ipykernel)",
   "language": "python",
   "name": "python3"
  },
  "language_info": {
   "codemirror_mode": {
    "name": "ipython",
    "version": 3
   },
   "file_extension": ".py",
   "mimetype": "text/x-python",
   "name": "python",
   "nbconvert_exporter": "python",
   "pygments_lexer": "ipython3",
   "version": "3.12.2"
  }
 },
 "nbformat": 4,
 "nbformat_minor": 4
}
